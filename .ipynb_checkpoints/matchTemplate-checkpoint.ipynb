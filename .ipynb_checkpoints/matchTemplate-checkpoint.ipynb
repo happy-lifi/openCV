{
 "cells": [
  {
   "cell_type": "code",
   "execution_count": 40,
   "metadata": {},
   "outputs": [],
   "source": [
    "import cv2\n",
    "import numpy as np\n",
    "from matplotlib import pyplot as plt"
   ]
  },
  {
   "cell_type": "code",
   "execution_count": 45,
   "metadata": {},
   "outputs": [
    {
     "name": "stdout",
     "output_type": "stream",
     "text": [
      "18 141\n"
     ]
    }
   ],
   "source": [
    "# 读入img\n",
    "img = cv2.imread('data/test_data/test4.jpg')\n",
    "img_gray = cv2.cvtColor(img, cv2.COLOR_BGR2GRAY)\n",
    "# ret, img_thresh = cv2.threshold(img_gray, 0, 255, cv2.THRESH_BINARY_INV + cv2.THRESH_OTSU)\n",
    "img = cv2.cvtColor(img, cv2.COLOR_BGR2RGB)\n",
    "#读入template\n",
    "template = cv2.imread('data/template3.jpg',0)\n",
    "# ret, template_thresh = cv2.threshold(template, 0, 255, cv2.THRESH_BINARY_INV + cv2.THRESH_OTSU)\n",
    "h, w = template.shape[:2]\n",
    "# cv2.imshow(\"img_thresh\",img_thresh)\n",
    "# cv2.waitKey(0)\n",
    "# cv2.imshow(\"thresh_template\",template_thresh)\n",
    "# cv2.waitKey(0)\n",
    "print(h,w)\n"
   ]
  },
  {
   "cell_type": "code",
   "execution_count": 46,
   "metadata": {},
   "outputs": [
    {
     "name": "stdout",
     "output_type": "stream",
     "text": [
      "data/img_result0.jpg\n",
      "data/img_result1.jpg\n",
      "data/img_result2.jpg\n",
      "data/img_result3.jpg\n",
      "data/img_result4.jpg\n",
      "data/img_result5.jpg\n"
     ]
    }
   ],
   "source": [
    "# 6种匹配方法\n",
    "methods = ['cv2.TM_CCOEFF', 'cv2.TM_CCOEFF_NORMED', 'cv2.TM_CCORR',\n",
    "           'cv2.TM_CCORR_NORMED', 'cv2.TM_SQDIFF', 'cv2.TM_SQDIFF_NORMED']\n",
    "i=0 \n",
    "for meth in methods:\n",
    "    \n",
    "    img2 = img.copy()\n",
    "\n",
    "    # 匹配方法的真值\n",
    "    method = eval(meth)\n",
    "    res = cv2.matchTemplate(img_gray, template, method)\n",
    "    min_val, max_val, min_loc, max_loc = cv2.minMaxLoc(res)\n",
    "\n",
    "    # 如果是平方差匹配TM_SQDIFF或归一化平方差匹配TM_SQDIFF_NORMED，取最小值\n",
    "    if method in [cv2.TM_SQDIFF, cv2.TM_SQDIFF_NORMED]:\n",
    "        top_left = min_loc\n",
    "    else:\n",
    "        top_left = max_loc\n",
    "    bottom_right = (top_left[0] + w, top_left[1] + h)\n",
    "    cv2.circle(res, top_left, 10, 0, 2)\n",
    "    # 画矩形|\n",
    "    cv2.rectangle(img2, top_left, bottom_right, (0, 255, 0), 3)\n",
    "    filename='data/img_result'+str(i)+'.jpg'\n",
    "    print(filename)\n",
    "    cv2.imwrite(filename, img2)\n",
    "    i=i+1"
   ]
  },
  {
   "cell_type": "code",
   "execution_count": null,
   "metadata": {},
   "outputs": [],
   "source": []
  }
 ],
 "metadata": {
  "kernelspec": {
   "display_name": "Python 3",
   "language": "python",
   "name": "python3"
  },
  "language_info": {
   "codemirror_mode": {
    "name": "ipython",
    "version": 3
   },
   "file_extension": ".py",
   "mimetype": "text/x-python",
   "name": "python",
   "nbconvert_exporter": "python",
   "pygments_lexer": "ipython3",
   "version": "3.7.4"
  }
 },
 "nbformat": 4,
 "nbformat_minor": 2
}
